{
 "cells": [
  {
   "cell_type": "markdown",
   "metadata": {},
   "source": [
    "# Detecting the Dominant Language in a Text Document Using Amazon Comprehend"
   ]
  },
  {
   "cell_type": "code",
   "execution_count": 1,
   "metadata": {},
   "outputs": [],
   "source": [
    "import boto3\n",
    "import json\n",
    "from pprint import pprint as pp"
   ]
  },
  {
   "cell_type": "code",
   "execution_count": 2,
   "metadata": {},
   "outputs": [],
   "source": [
    "comprehend = boto3.client(service_name='comprehend')"
   ]
  },
  {
   "cell_type": "code",
   "execution_count": 3,
   "metadata": {},
   "outputs": [],
   "source": [
    "string1 = 'Machine Learning is fascinating.'\n",
    "string2 = 'शामिल होने के लिए धन्यवाद'"
   ]
  },
  {
   "cell_type": "code",
   "execution_count": 4,
   "metadata": {},
   "outputs": [
    {
     "data": {
      "text/plain": [
       "{'Languages': [{'LanguageCode': 'en', 'Score': 0.9855319857597351}],\n",
       " 'ResponseMetadata': {'RequestId': 'a040f564-e363-4cba-b22b-22d3e01083f9',\n",
       "  'HTTPStatusCode': 200,\n",
       "  'HTTPHeaders': {'x-amzn-requestid': 'a040f564-e363-4cba-b22b-22d3e01083f9',\n",
       "   'content-type': 'application/x-amz-json-1.1',\n",
       "   'content-length': '64',\n",
       "   'date': 'Tue, 16 Mar 2021 08:13:22 GMT'},\n",
       "  'RetryAttempts': 0}}"
      ]
     },
     "execution_count": 4,
     "metadata": {},
     "output_type": "execute_result"
    }
   ],
   "source": [
    "comprehend.detect_dominant_language(Text = string1)"
   ]
  },
  {
   "cell_type": "code",
   "execution_count": 5,
   "metadata": {},
   "outputs": [
    {
     "name": "stdout",
     "output_type": "stream",
     "text": [
      "Calling DetectDominantLanguage\n",
      "****************************************************************************************************\n",
      "string1 result:\n",
      "****************************************************************************************************\n",
      "{'Languages': [{'LanguageCode': 'en', 'Score': 0.9855319857597351}],\n",
      " 'ResponseMetadata': {'HTTPHeaders': {'content-length': '64',\n",
      "                                      'content-type': 'application/x-amz-json-1.1',\n",
      "                                      'date': 'Tue, 16 Mar 2021 08:13:23 GMT',\n",
      "                                      'x-amzn-requestid': '27f24c7b-bfe6-4de2-a226-47f2e5837dca'},\n",
      "                      'HTTPStatusCode': 200,\n",
      "                      'RequestId': '27f24c7b-bfe6-4de2-a226-47f2e5837dca',\n",
      "                      'RetryAttempts': 0}}\n",
      "****************************************************************************************************\n",
      "string2 result:\n",
      "****************************************************************************************************\n",
      "{'Languages': [{'LanguageCode': 'hi', 'Score': 0.9971309304237366}],\n",
      " 'ResponseMetadata': {'HTTPHeaders': {'content-length': '64',\n",
      "                                      'content-type': 'application/x-amz-json-1.1',\n",
      "                                      'date': 'Tue, 16 Mar 2021 08:13:23 GMT',\n",
      "                                      'x-amzn-requestid': 'e83e3683-1b48-4448-965e-8d526c9b0d31'},\n",
      "                      'HTTPStatusCode': 200,\n",
      "                      'RequestId': 'e83e3683-1b48-4448-965e-8d526c9b0d31',\n",
      "                      'RetryAttempts': 0}}\n",
      "End of DetectDominantLanguage\n",
      "\n"
     ]
    }
   ],
   "source": [
    "print('Calling DetectDominantLanguage')\n",
    "\n",
    "print(\"*\"*100)\n",
    "print('string1 result:')\n",
    "print(\"*\"*100)\n",
    "\n",
    "response = comprehend.detect_dominant_language(Text = string1)\n",
    "\n",
    "pp(response)\n",
    "\n",
    "print(\"*\"*100)\n",
    "print('string2 result:')\n",
    "print(\"*\"*100)\n",
    "\n",
    "response = comprehend.detect_dominant_language(Text = string2)\n",
    "\n",
    "pp(response)\n",
    "\n",
    "print('End of DetectDominantLanguage\\n')"
   ]
  },
  {
   "cell_type": "markdown",
   "metadata": {},
   "source": [
    "# Extracting Information from a Document"
   ]
  },
  {
   "cell_type": "markdown",
   "metadata": {},
   "source": [
    "###  `detect_entities`"
   ]
  },
  {
   "cell_type": "code",
   "execution_count": 6,
   "metadata": {},
   "outputs": [],
   "source": [
    "comprehend = boto3.client(service_name='comprehend')"
   ]
  },
  {
   "cell_type": "code",
   "execution_count": 7,
   "metadata": {},
   "outputs": [],
   "source": [
    "my_string = \"I study Machine Learning with AWS, and I am from India, \\\n",
    "                  and we are excited about the HackNIT which is scheduled in March 2021\""
   ]
  },
  {
   "cell_type": "code",
   "execution_count": 8,
   "metadata": {},
   "outputs": [
    {
     "name": "stdout",
     "output_type": "stream",
     "text": [
      "{'Entities': [{'BeginOffset': 30,\n",
      "               'EndOffset': 33,\n",
      "               'Score': 0.9771283864974976,\n",
      "               'Text': 'AWS',\n",
      "               'Type': 'ORGANIZATION'},\n",
      "              {'BeginOffset': 49,\n",
      "               'EndOffset': 54,\n",
      "               'Score': 0.9970868229866028,\n",
      "               'Text': 'India',\n",
      "               'Type': 'LOCATION'},\n",
      "              {'BeginOffset': 103,\n",
      "               'EndOffset': 110,\n",
      "               'Score': 0.3540899455547333,\n",
      "               'Text': 'HackNIT',\n",
      "               'Type': 'EVENT'},\n",
      "              {'BeginOffset': 133,\n",
      "               'EndOffset': 143,\n",
      "               'Score': 0.9991873502731323,\n",
      "               'Text': 'March 2021',\n",
      "               'Type': 'DATE'}],\n",
      " 'ResponseMetadata': {'HTTPHeaders': {'content-length': '396',\n",
      "                                      'content-type': 'application/x-amz-json-1.1',\n",
      "                                      'date': 'Tue, 16 Mar 2021 08:13:23 GMT',\n",
      "                                      'x-amzn-requestid': '56109687-2cc9-4407-bf84-36eeb10dccee'},\n",
      "                      'HTTPStatusCode': 200,\n",
      "                      'RequestId': '56109687-2cc9-4407-bf84-36eeb10dccee',\n",
      "                      'RetryAttempts': 0}}\n"
     ]
    }
   ],
   "source": [
    "response = comprehend.detect_entities(Text = my_string, LanguageCode='en')\n",
    "\n",
    "pp(response)"
   ]
  },
  {
   "cell_type": "markdown",
   "metadata": {},
   "source": [
    "### `DetectSentiment`"
   ]
  },
  {
   "cell_type": "code",
   "execution_count": 9,
   "metadata": {},
   "outputs": [],
   "source": [
    "comprehend = boto3.client(service_name='comprehend')"
   ]
  },
  {
   "cell_type": "code",
   "execution_count": 10,
   "metadata": {},
   "outputs": [],
   "source": [
    "my_string = \"You know what, you are such a pathetic presenter, I have no clue who requested you to come here\""
   ]
  },
  {
   "cell_type": "code",
   "execution_count": 11,
   "metadata": {},
   "outputs": [],
   "source": [
    "response = comprehend.detect_sentiment(Text = my_string, LanguageCode='en')"
   ]
  },
  {
   "cell_type": "code",
   "execution_count": 12,
   "metadata": {},
   "outputs": [
    {
     "name": "stdout",
     "output_type": "stream",
     "text": [
      "{'ResponseMetadata': {'HTTPHeaders': {'content-length': '166',\n",
      "                                      'content-type': 'application/x-amz-json-1.1',\n",
      "                                      'date': 'Tue, 16 Mar 2021 08:13:25 GMT',\n",
      "                                      'x-amzn-requestid': '3489b567-4c99-4336-bb02-a5606a347a79'},\n",
      "                      'HTTPStatusCode': 200,\n",
      "                      'RequestId': '3489b567-4c99-4336-bb02-a5606a347a79',\n",
      "                      'RetryAttempts': 0},\n",
      " 'Sentiment': 'NEGATIVE',\n",
      " 'SentimentScore': {'Mixed': 0.00035584188299253583,\n",
      "                    'Negative': 0.9849704504013062,\n",
      "                    'Neutral': 0.013673778623342514,\n",
      "                    'Positive': 0.0009999849135056138}}\n"
     ]
    }
   ],
   "source": [
    "pp(response)"
   ]
  },
  {
   "cell_type": "code",
   "execution_count": 13,
   "metadata": {},
   "outputs": [],
   "source": [
    "my_string = \"Hey, I was kidding, I have not seen any presenter like you, since my birth\"\n",
    "response = comprehend.detect_sentiment(Text = my_string, LanguageCode='en')"
   ]
  },
  {
   "cell_type": "code",
   "execution_count": 14,
   "metadata": {},
   "outputs": [
    {
     "name": "stdout",
     "output_type": "stream",
     "text": [
      "{'ResponseMetadata': {'HTTPHeaders': {'content-length': '162',\n",
      "                                      'content-type': 'application/x-amz-json-1.1',\n",
      "                                      'date': 'Tue, 16 Mar 2021 08:13:25 GMT',\n",
      "                                      'x-amzn-requestid': 'ac00359a-6766-497a-a29c-a5df2d2145f7'},\n",
      "                      'HTTPStatusCode': 200,\n",
      "                      'RequestId': 'ac00359a-6766-497a-a29c-a5df2d2145f7',\n",
      "                      'RetryAttempts': 0},\n",
      " 'Sentiment': 'NEUTRAL',\n",
      " 'SentimentScore': {'Mixed': 0.0013401777250692248,\n",
      "                    'Negative': 0.3932669460773468,\n",
      "                    'Neutral': 0.5333490967750549,\n",
      "                    'Positive': 0.07204371690750122}}\n"
     ]
    }
   ],
   "source": [
    "pp(response)"
   ]
  },
  {
   "cell_type": "code",
   "execution_count": 15,
   "metadata": {},
   "outputs": [],
   "source": [
    "my_string = \"Hey, I was kidding, I have not seen any presenter like you, since my birth, you are awesome\"\n",
    "response = comprehend.detect_sentiment(Text = my_string, LanguageCode='en')"
   ]
  },
  {
   "cell_type": "code",
   "execution_count": 16,
   "metadata": {},
   "outputs": [
    {
     "name": "stdout",
     "output_type": "stream",
     "text": [
      "{'ResponseMetadata': {'HTTPHeaders': {'content-length': '166',\n",
      "                                      'content-type': 'application/x-amz-json-1.1',\n",
      "                                      'date': 'Tue, 16 Mar 2021 08:13:25 GMT',\n",
      "                                      'x-amzn-requestid': '43320edd-861a-4f61-a072-faea68fe8a8a'},\n",
      "                      'HTTPStatusCode': 200,\n",
      "                      'RequestId': '43320edd-861a-4f61-a072-faea68fe8a8a',\n",
      "                      'RetryAttempts': 0},\n",
      " 'Sentiment': 'POSITIVE',\n",
      " 'SentimentScore': {'Mixed': 0.0020419417414814234,\n",
      "                    'Negative': 0.011707475408911705,\n",
      "                    'Neutral': 0.030218344181776047,\n",
      "                    'Positive': 0.9560322165489197}}\n"
     ]
    }
   ],
   "source": [
    "pp(response)"
   ]
  },
  {
   "cell_type": "markdown",
   "metadata": {},
   "source": [
    "# Setting Up a Lambda Function and Analyzing Imported Text Using Comprehend"
   ]
  },
  {
   "cell_type": "markdown",
   "metadata": {},
   "source": [
    "## Integrating Comprehend and AWS Lambda for responsive NLP"
   ]
  },
  {
   "cell_type": "markdown",
   "metadata": {},
   "source": [
    "#### What Is AWS Lambda?"
   ]
  },
  {
   "cell_type": "markdown",
   "metadata": {},
   "source": [
    "- AWS Lambda is a compute service that runs code without provisioning or managing servers. \n",
    "- AWS Lambda executes code only when needed, and scales automatically.\n",
    "- AWS Lambda runs your code on a high-availability compute infrastructure, which performs the administration of the compute service. \n",
    "- AWS Lambda performs the following: \n",
    "    - server and operating system maintenance, \n",
    "    - capacity provisioning and automatic scaling, code monitoring, and logging.\n",
    "- Overall, the goal of AWS Lambda is to make short, simple, modular code segments that you can tie together into a larger processing infrastructure."
   ]
  },
  {
   "cell_type": "markdown",
   "metadata": {},
   "source": [
    "#### Let's examine the structure of a Lambda function"
   ]
  },
  {
   "cell_type": "markdown",
   "metadata": {},
   "source": [
    "- When you create a function (for example, `s3_trigger`), AWS creates a folder named the same, with a Python file named `Lambda_function.py` within the folder. This file contains a stub for the `Lambda_handler` function, which is the entry point of our Lambda function. \n",
    "\n",
    "- The entry point takes two parameters as arguments: \n",
    "    \n",
    "    - The `event` argument provides the value of the payload, which is sent to the function from the calling process. \n",
    "\n",
    "    - The `context` argument is of the type LambdaContext and contains runtime information. "
   ]
  },
  {
   "cell_type": "markdown",
   "metadata": {},
   "source": [
    "#### What we are going to do ? "
   ]
  },
  {
   "cell_type": "markdown",
   "metadata": {},
   "source": [
    "We will incorporate :\n",
    "- AWS Lambda\n",
    "- Amazon S3\n",
    "- Amazon Comprehend\n",
    "\n",
    "to automatically perform document analysis when a text document is uploaded to S3."
   ]
  },
  {
   "cell_type": "markdown",
   "metadata": {},
   "source": [
    "`Step 1`:\n",
    "    Create a S3 bucket (`aws-ml-hacknit-demo`)"
   ]
  },
  {
   "cell_type": "markdown",
   "metadata": {},
   "source": [
    "`Step 2`:\n",
    "    Create a Lambda function"
   ]
  },
  {
   "cell_type": "markdown",
   "metadata": {},
   "source": [
    "`Step 3`:\n",
    "    Add a role so that Lambda can access Comprehend"
   ]
  },
  {
   "cell_type": "code",
   "execution_count": null,
   "metadata": {},
   "outputs": [],
   "source": []
  }
 ],
 "metadata": {
  "kernelspec": {
   "display_name": "Python 3",
   "language": "python",
   "name": "python3"
  },
  "language_info": {
   "codemirror_mode": {
    "name": "ipython",
    "version": 3
   },
   "file_extension": ".py",
   "mimetype": "text/x-python",
   "name": "python",
   "nbconvert_exporter": "python",
   "pygments_lexer": "ipython3",
   "version": "3.8.3"
  }
 },
 "nbformat": 4,
 "nbformat_minor": 4
}
